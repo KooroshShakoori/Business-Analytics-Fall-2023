{
 "cells": [
  {
   "cell_type": "markdown",
   "id": "c836730c-fd93-4438-93de-36acc85cf072",
   "metadata": {},
   "source": [
    "# Business Analytics - Assignment 4\n",
    "#### **Student Name:** Koorosh Shakoori"
   ]
  },
  {
   "cell_type": "markdown",
   "id": "bd98099c-d2d4-403b-8066-329abc054b9f",
   "metadata": {},
   "source": [
    "## Loading and processing the dataset\n",
    "considering the fact that two features, namely Type and sex, are of object type, we need to encode them into numerical format.\n",
    "\n",
    "Both features have only 2 unique values. Hence, after getting their encoded versions, we will remove one of each feature columns to prevent feeding redundant data into our model. This will lead into features described as below:\n",
    "- sex_M:\n",
    "    - 1 if male\n",
    "    - 0 if female\n",
    "    \n",
    "- Type_Surgical:\n",
    "    - 1 if Surgical patient\n",
    "    - 0 if Medical patient\n",
    "    "
   ]
  },
  {
   "cell_type": "code",
   "execution_count": 1,
   "id": "c52f888a-badd-42b4-b13f-7ca8fff7263c",
   "metadata": {
    "tags": []
   },
   "outputs": [],
   "source": [
    "import pandas as pd\n",
    "data = pd.read_csv('MiniExam4Dataset.csv')\n",
    "data = pd.get_dummies(data, columns=['sex', 'Type'], prefix=['sex', 'Type'])\n",
    "X = data.drop(['death', 'sex_F', 'Type_Medical'], axis=1)\n",
    "y = data.death "
   ]
  },
  {
   "cell_type": "markdown",
   "id": "3b268ae0-360b-4ab4-961f-f68b023acacb",
   "metadata": {},
   "source": [
    "## (a)\n",
    "The data is split between train and test datasets. the test ratio is set to 20% as requested in the problem.\n",
    "\n",
    "A random_state value has been assigned for consistency."
   ]
  },
  {
   "cell_type": "code",
   "execution_count": 2,
   "id": "0b1359d7-9140-4516-90be-c743bc392857",
   "metadata": {
    "tags": []
   },
   "outputs": [],
   "source": [
    "from sklearn.model_selection import train_test_split\n",
    "\n",
    "X_train, X_test, y_train, y_test = train_test_split(X, y, test_size=0.2, random_state=0, stratify=y)"
   ]
  },
  {
   "cell_type": "markdown",
   "id": "811aee06-c47b-4fcb-ba45-1ae242b16acb",
   "metadata": {},
   "source": [
    "## (b)\n",
    "Considering we are using cross validation approaches, the standardization is not performed separately at the beginning due to data leakage. Instead, this step is performed via pipelines in each experiment individually.\n",
    "\n",
    "For each experiment, a set of c(in case of regularized logistic regression) and k(in case of KNN) values has been defined. a loop iterates through said lists of parameters and using a 10-fold cross validation method, the models are evaluated by the resulting accuracy scores.\n"
   ]
  },
  {
   "cell_type": "code",
   "execution_count": 3,
   "id": "962d7598-0e13-4fef-9710-338686f18ef9",
   "metadata": {
    "tags": []
   },
   "outputs": [],
   "source": [
    "from sklearn.linear_model import LogisticRegression\n",
    "from sklearn.model_selection import cross_val_score\n",
    "from sklearn import preprocessing\n",
    "from sklearn.pipeline import make_pipeline"
   ]
  },
  {
   "cell_type": "code",
   "execution_count": 4,
   "id": "5921d493-d060-4c1f-913c-a884b27fcc8c",
   "metadata": {
    "tags": []
   },
   "outputs": [
    {
     "name": "stdout",
     "output_type": "stream",
     "text": [
      "the results for l1 regularized logistic regression are:\n",
      "best C value: 0.1\n",
      "best score: 0.9025000000000001\n",
      "   Validation Accuracy          C\n",
      "0               0.8075      0.001\n",
      "1               0.8075      0.010\n",
      "2               0.9025      0.100\n",
      "3               0.9000      1.000\n",
      "4               0.9000     10.000\n",
      "5               0.9025    100.000\n",
      "6               0.9025   1000.000\n",
      "7               0.9025  10000.000\n"
     ]
    }
   ],
   "source": [
    "C_params = [0.001,0.01,0.1,1,10,100,1000,10000]\n",
    "scores = []\n",
    "for c in C_params:\n",
    "    model = LogisticRegression(C=c,penalty='l1', max_iter=1000, solver='liblinear')\n",
    "    pipe = make_pipeline(preprocessing.StandardScaler(), model)\n",
    "    score = cross_val_score(pipe, X_train, y_train, cv=10, scoring='accuracy').mean()\n",
    "    scores.append([score, c])\n",
    "\n",
    "scores_df = pd.DataFrame(scores, columns=['Validation Accuracy', 'C'])\n",
    "\n",
    "l1_C = scores_df.loc[scores_df[\"Validation Accuracy\"].idxmax(), 'C']\n",
    "l1_score = scores_df[\"Validation Accuracy\"].max()\n",
    "print('the results for l1 regularized logistic regression are:')\n",
    "print(f'best C value: {l1_C}')\n",
    "print(f'best score: {l1_score}')\n",
    "print(scores_df)"
   ]
  },
  {
   "cell_type": "code",
   "execution_count": 5,
   "id": "c7a4688e-314e-4d4c-8169-25a296f7efba",
   "metadata": {
    "tags": []
   },
   "outputs": [
    {
     "name": "stdout",
     "output_type": "stream",
     "text": [
      "the results for l2 regularized logistic regression are:\n",
      "best C value: 10.0\n",
      "best score: 0.9025000000000001\n",
      "   Validation Accuracy          C\n",
      "0               0.8075      0.001\n",
      "1               0.8800      0.010\n",
      "2               0.8950      0.100\n",
      "3               0.9000      1.000\n",
      "4               0.9025     10.000\n",
      "5               0.9025    100.000\n",
      "6               0.9025   1000.000\n",
      "7               0.9025  10000.000\n"
     ]
    }
   ],
   "source": [
    "C_params = [0.001,0.01,0.1,1,10,100,1000,10000]\n",
    "scores = []\n",
    "for c in C_params:\n",
    "    model = LogisticRegression(C=c,penalty='l2',max_iter=1000)\n",
    "    pipe = make_pipeline(preprocessing.StandardScaler(), model)\n",
    "    score = cross_val_score(pipe, X_train, y_train, scoring='accuracy', cv=10).mean()\n",
    "    scores.append([score, c])\n",
    "\n",
    "scores_df = pd.DataFrame(scores, columns=['Validation Accuracy', 'C'])\n",
    "\n",
    "l2_C = scores_df.loc[scores_df[\"Validation Accuracy\"].idxmax(), 'C']\n",
    "l2_score = scores_df[\"Validation Accuracy\"].max()\n",
    "print('the results for l2 regularized logistic regression are:')\n",
    "print(f'best C value: {l2_C}')\n",
    "print(f'best score: {l2_score}')\n",
    "print(scores_df)"
   ]
  },
  {
   "cell_type": "markdown",
   "id": "4bbaf91b-e695-4f56-8c44-a36da7a1f4ce",
   "metadata": {},
   "source": [
    "While regularization in the methods above was implemented to emulate a feature selection process, the KNN method lacks such sophistication.\n",
    "\n",
    "To address the redundency of data, and select a suitable subset of features that works best with this algorithm, the Sequential Feature Selection is used.\n",
    "\n",
    "This method is examined both in forward and backward manner. The steps to this approach is:\n",
    "- 1: Select a K value\n",
    "- 2: Run the SFS algorithm on the standardized training dataset and choose the best performing subset according to cross validation score\n",
    "- 3: After iterating through all K values, the best performing one and its respective feature subset is selected as the best KNN model\n",
    "\n",
    "For comparison purposes, first a set of normal KNN models are trained and evaluated with cross validation.\n"
   ]
  },
  {
   "cell_type": "code",
   "execution_count": 6,
   "id": "cdd0b3f3-dd94-4b34-8578-a5f15dc26fd7",
   "metadata": {
    "tags": []
   },
   "outputs": [
    {
     "name": "stdout",
     "output_type": "stream",
     "text": [
      "the results for normal KNN are:\n",
      "best K value: 9\n",
      "best score: 0.905\n",
      "    Validation Accuracy   K\n",
      "0                0.8900   3\n",
      "1                0.8775   4\n",
      "2                0.8850   5\n",
      "3                0.8850   6\n",
      "4                0.8925   7\n",
      "5                0.8950   8\n",
      "6                0.9050   9\n",
      "7                0.8975  10\n",
      "8                0.8975  11\n",
      "9                0.8925  12\n",
      "10               0.9050  13\n",
      "11               0.8925  14\n",
      "12               0.8975  15\n",
      "13               0.8875  16\n",
      "14               0.8925  17\n",
      "15               0.8950  18\n",
      "16               0.9000  19\n",
      "17               0.8950  20\n",
      "18               0.8950  21\n",
      "19               0.8925  22\n",
      "20               0.8950  23\n",
      "21               0.8925  24\n",
      "22               0.8900  25\n"
     ]
    }
   ],
   "source": [
    "from sklearn.neighbors import KNeighborsClassifier\n",
    "K_params = list(range(3, 26))\n",
    "scores = []\n",
    "for k in K_params:\n",
    "    model = KNeighborsClassifier(n_neighbors=k)\n",
    "    pipe = make_pipeline(preprocessing.StandardScaler(), model)\n",
    "    score = cross_val_score(pipe, X_train, y_train, cv=10, scoring='accuracy').mean()\n",
    "    scores.append([score, k])\n",
    "\n",
    "scores_df = pd.DataFrame(scores, columns=['Validation Accuracy', 'K'])\n",
    "\n",
    "best_k = scores_df.loc[scores_df[\"Validation Accuracy\"].idxmax(), 'K']\n",
    "best_k_score = scores_df[\"Validation Accuracy\"].max()\n",
    "print('the results for normal KNN are:')\n",
    "print(f'best K value: {best_k}')\n",
    "print(f'best score: {best_k_score}')\n",
    "print(scores_df)"
   ]
  },
  {
   "cell_type": "code",
   "execution_count": 7,
   "id": "9f063bd4-321b-442c-8742-51a6b2f3a632",
   "metadata": {
    "tags": []
   },
   "outputs": [
    {
     "name": "stdout",
     "output_type": "stream",
     "text": [
      "the results for KNN in FFS are:\n",
      "best K value: 4\n",
      "best score: 0.9099999999999999\n",
      "selected subset: ['SIRS_48_hour', 'MV_24_hour', 'Discharge_SOFA', 'sex_M', 'Type_Surgical']\n",
      "    Validation Accuracy                                  Selected Features   K\n",
      "0                0.8925         (MV_24_hour, Initial_SOFA, Discharge_SOFA)   3\n",
      "1                0.9100  (SIRS_48_hour, MV_24_hour, Discharge_SOFA, sex...   4\n",
      "2                0.8900  (previous_ICU_stays, cvc_status, MV_24_hour, D...   5\n",
      "3                0.8950  (SIRS_48_hour, Initial_SOFA, Discharge_SOFA, M...   6\n",
      "4                0.8900  (previous_ICU_stays, cvc_status, MV_24_hour, I...   7\n",
      "5                0.8875                             (age, DischargeApache)   8\n",
      "6                0.8900  (age, previous_ICU_stays, cvc_status, Discharg...   9\n",
      "7                0.8950  (age, previous_ICU_stays, SIRS_48_hour, Discha...  10\n",
      "8                0.8900                             (age, DischargeApache)  11\n",
      "9                0.8925                  (Discharge_SOFA, DischargeApache)  12\n",
      "10               0.8925  (previous_ICU_stays, cvc_status, SIRS_48_hour,...  13\n",
      "11               0.8925  (previous_ICU_stays, Discharge_SOFA, Discharge...  14\n",
      "12               0.8950        (Discharge_SOFA, Max_SOFA, DischargeApache)  15\n",
      "13               0.8925    (Initial_SOFA, Discharge_SOFA, DischargeApache)  16\n",
      "14               0.8925    (Initial_SOFA, Discharge_SOFA, DischargeApache)  17\n",
      "15               0.8925                  (Discharge_SOFA, DischargeApache)  18\n",
      "16               0.8925  (previous_ICU_stays, cvc_status, SIRS_48_hour,...  19\n",
      "17               0.8925    (SIRS_48_hour, Discharge_SOFA, DischargeApache)  20\n",
      "18               0.8900                      (cvc_status, DischargeApache)  21\n",
      "19               0.8925  (previous_ICU_stays, cvc_status, SIRS_48_hour,...  22\n",
      "20               0.8900                  (Discharge_SOFA, DischargeApache)  23\n",
      "21               0.8900  (age, previous_ICU_stays, cvc_status, SIRS_48_...  24\n",
      "22               0.8925  (SIRS_48_hour, Initial_SOFA, Discharge_SOFA, D...  25\n"
     ]
    }
   ],
   "source": [
    "#This block executes the Forward Feature Selection approach combined with KNN\n",
    "#Note that we use the same pipeline practice to prevent data leakage\n",
    "from mlxtend.feature_selection import SequentialFeatureSelector as SFS\n",
    "\n",
    "K_params = list(range(3, 26))\n",
    "scores = []\n",
    "for k in K_params:\n",
    "    model = KNeighborsClassifier(n_neighbors=k)\n",
    "    pipe = make_pipeline(preprocessing.StandardScaler(), model)\n",
    "    sfs = SFS(model, \n",
    "           k_features=14, \n",
    "           forward=True, \n",
    "           floating=False, \n",
    "           verbose=0,\n",
    "           scoring='accuracy',\n",
    "           cv=10)\n",
    "    sfs = sfs.fit(X_train, y_train)\n",
    "    sfs.k_feature_names_ = X_train.columns\n",
    "    score = sorted(sfs.get_metric_dict().values(), key=lambda x: x['avg_score'], reverse=True)[0]['avg_score']\n",
    "    subset = sorted(sfs.get_metric_dict().values(), key=lambda x: x['avg_score'], reverse=True)[0]['feature_names']\n",
    "    scores.append([score, subset, k])\n",
    "\n",
    "scores_df = pd.DataFrame(scores, columns=['Validation Accuracy', 'Selected Features', 'K'])\n",
    "best_forward_k = scores_df.loc[scores_df['Validation Accuracy'].idxmax(), 'K']\n",
    "best_forward_score = scores_df['Validation Accuracy'].max()\n",
    "best_forward_feature_subset = list(scores_df.loc[scores_df['Validation Accuracy'].idxmax(), 'Selected Features'])\n",
    "print('the results for KNN in FFS are:')\n",
    "print(f'best K value: {best_forward_k}')\n",
    "print(f'best score: {best_forward_score}')\n",
    "print(f'selected subset: {best_forward_feature_subset}')\n",
    "print(scores_df)"
   ]
  },
  {
   "cell_type": "code",
   "execution_count": 8,
   "id": "9aab9d29-0c87-44d7-b8e8-ff9b26ba77a9",
   "metadata": {
    "tags": []
   },
   "outputs": [
    {
     "name": "stdout",
     "output_type": "stream",
     "text": [
      "the results for KNN in BFE are:\n",
      "best K value: 5\n",
      "best score: 0.915\n",
      "selected subset: ['previous_ICU_stays', 'cvc_status', 'SIRS_48_hour', 'MV_24_hour', 'Discharge_SOFA', 'sex_M', 'Type_Surgical']\n",
      "    Validation Accuracy                                  Selected Features   K\n",
      "0                0.8850  (age, LOS, previous_ICU_stays, cvc_status, SIR...   3\n",
      "1                0.9100  (previous_ICU_stays, SIRS_48_hour, MV_24_hour,...   4\n",
      "2                0.9150  (previous_ICU_stays, cvc_status, SIRS_48_hour,...   5\n",
      "3                0.8950  (previous_ICU_stays, SIRS_48_hour, MV_24_hour,...   6\n",
      "4                0.9000  (cvc_status, SIRS_48_hour, MV_24_hour, Dischar...   7\n",
      "5                0.8900  (previous_ICU_stays, cvc_status, SIRS_48_hour,...   8\n",
      "6                0.8950  (previous_ICU_stays, cvc_status, SIRS_48_hour,...   9\n",
      "7                0.8900  (age, previous_ICU_stays, cvc_status, SIRS_48_...  10\n",
      "8                0.9000  (SIRS_48_hour, MV_24_hour, Discharge_SOFA, Max...  11\n",
      "9                0.8925  (previous_ICU_stays, cvc_status, SIRS_48_hour,...  12\n",
      "10               0.8900  (previous_ICU_stays, cvc_status, SIRS_48_hour,...  13\n",
      "11               0.8925  (previous_ICU_stays, cvc_status, SIRS_48_hour,...  14\n",
      "12               0.8950  (previous_ICU_stays, cvc_status, SIRS_48_hour,...  15\n",
      "13               0.8925  (previous_ICU_stays, cvc_status, SIRS_48_hour,...  16\n",
      "14               0.8925  (previous_ICU_stays, cvc_status, SIRS_48_hour,...  17\n",
      "15               0.8925                  (Discharge_SOFA, DischargeApache)  18\n",
      "16               0.8925  (previous_ICU_stays, cvc_status, SIRS_48_hour,...  19\n",
      "17               0.8925  (previous_ICU_stays, cvc_status, SIRS_48_hour,...  20\n",
      "18               0.8900  (previous_ICU_stays, cvc_status, SIRS_48_hour,...  21\n",
      "19               0.8925  (previous_ICU_stays, cvc_status, SIRS_48_hour,...  22\n",
      "20               0.8950  (previous_ICU_stays, cvc_status, SIRS_48_hour,...  23\n",
      "21               0.8925  (previous_ICU_stays, cvc_status, SIRS_48_hour,...  24\n",
      "22               0.8925  (previous_ICU_stays, cvc_status, SIRS_48_hour,...  25\n"
     ]
    }
   ],
   "source": [
    "#This block executes the Backward Feature Elimination approach combined with KNN\n",
    "K_params = list(range(3, 26))\n",
    "scores = []\n",
    "for k in K_params:\n",
    "    model = KNeighborsClassifier(n_neighbors=k)\n",
    "    pipe = make_pipeline(preprocessing.StandardScaler(), model)\n",
    "    sfs = SFS(model, \n",
    "           k_features=1, \n",
    "           forward=False, \n",
    "           floating=False, \n",
    "           verbose=0,\n",
    "           scoring='accuracy',\n",
    "           cv=10)\n",
    "    sfs = sfs.fit(X_train, y_train)\n",
    "    sfs.k_feature_names_ = X_train.columns\n",
    "    score = sorted(sfs.get_metric_dict().values(), key=lambda x: x['avg_score'], reverse=True)[0]['avg_score']\n",
    "    subset = sorted(sfs.get_metric_dict().values(), key=lambda x: x['avg_score'], reverse=True)[0]['feature_names']\n",
    "    scores.append([score, subset, k])\n",
    "\n",
    "scores_df = pd.DataFrame(scores, columns=['Validation Accuracy', 'Selected Features', 'K'])\n",
    "best_backward_k = scores_df.loc[scores_df['Validation Accuracy'].idxmax(), 'K']\n",
    "best_backward_score = scores_df['Validation Accuracy'].max()\n",
    "best_backward_feature_subset = list(scores_df.loc[scores_df['Validation Accuracy'].idxmax(), 'Selected Features'])\n",
    "print('the results for KNN in BFE are:')\n",
    "print(f'best K value: {best_backward_k}')\n",
    "print(f'best score: {best_backward_score}')\n",
    "print(f'selected subset: {best_backward_feature_subset}')\n",
    "print(scores_df)"
   ]
  },
  {
   "cell_type": "markdown",
   "id": "bc77cfd2-6592-42c5-b17b-15ea7ce7a005",
   "metadata": {
    "tags": []
   },
   "source": [
    "## (c)\n",
    "According to the cross validated accuracy scores, The KNN model with the K value of 5 and a subset of features listed below provide the best result in validation process(Average accuracy score of 0.915).\n",
    "\n",
    "selected subset: ['previous_ICU_stays', 'cvc_status', 'SIRS_48_hour', 'MV_24_hour', 'Discharge_SOFA', 'sex_M', 'Type_Surgical']\n",
    "\n",
    "Hence, moving forward this model will be used for evaluation over the test dataset."
   ]
  },
  {
   "cell_type": "code",
   "execution_count": 56,
   "id": "ee13199b-5c4d-4995-a5af-5cb151077c5f",
   "metadata": {
    "tags": []
   },
   "outputs": [
    {
     "name": "stdout",
     "output_type": "stream",
     "text": [
      "The accuracy score over the standardized test dateset is: 0.87\n"
     ]
    }
   ],
   "source": [
    "#the subset recommended by SFS approach is now used as the dataset\n",
    "X_train_selected = X_train[best_backward_feature_subset]\n",
    "X_test_selected = X_test[best_backward_feature_subset]\n",
    "\n",
    "#Since there are no more cross validation, the scaling is carried out seperately, however with respect to train dataset to prevent data leakage.\n",
    "scaler = preprocessing.StandardScaler()\n",
    "scaler.fit(X_train_selected)\n",
    "X_train_scaled = scaler.transform(X_train_selected)\n",
    "X_test_scaled = scaler.transform(X_test_selected)\n",
    "\n",
    "model = KNeighborsClassifier(n_neighbors=5)\n",
    "model.fit(X_train_scaled, y_train)\n",
    "score = model.score(X_test_scaled, y_test)\n",
    "print(f'The accuracy score over the standardized test dateset is: {score}')"
   ]
  },
  {
   "cell_type": "markdown",
   "id": "74b789bb-0a78-4f02-9fa6-317619b8b44f",
   "metadata": {},
   "source": [
    "## (d)\n",
    "The confusion matrix is provided below.\n",
    "\n",
    "This matrix depicts despite the acceptable accuracy score, the performance regarding Type II error(False Negative) is lacking.\n",
    "\n",
    "Therefore, the models should be used carefully since it is not yet well-optimized."
   ]
  },
  {
   "cell_type": "code",
   "execution_count": 58,
   "id": "86eeb2da-7691-4594-8c50-7368f78ee114",
   "metadata": {
    "tags": []
   },
   "outputs": [
    {
     "data": {
      "image/png": "[encoded data removed]",
      "text/plain": [
       "<Figure size 640x480 with 2 Axes>"
      ]
     },
     "metadata": {},
     "output_type": "display_data"
    }
   ],
   "source": [
    "from sklearn.metrics import confusion_matrix, ConfusionMatrixDisplay\n",
    "import matplotlib.pyplot as plt\n",
    "y_pred = model.predict(X_test_scaled)\n",
    "ConfusionMatrixDisplay.from_predictions(y_test, y_pred);"
   ]
  }
 ],
 "metadata": {
  "kernelspec": {
   "display_name": "Python 3 (ipykernel)",
   "language": "python",
   "name": "python3"
  },
  "language_info": {
   "codemirror_mode": {
    "name": "ipython",
    "version": 3
   },
   "file_extension": ".py",
   "mimetype": "text/x-python",
   "name": "python",
   "nbconvert_exporter": "python",
   "pygments_lexer": "ipython3",
   "version": "3.8.18"
  }
 },
 "nbformat": 4,
 "nbformat_minor": 5
}
