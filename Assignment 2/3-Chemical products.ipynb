{
 "cells": [
  {
   "cell_type": "markdown",
   "id": "5d56a378-c1ce-4006-917c-e43a92b0c194",
   "metadata": {},
   "source": [
    "# Business Analytics - Assignment 2 - Question 3\n",
    "#### **Student Name:** Koorosh Shakoori"
   ]
  },
  {
   "cell_type": "markdown",
   "id": "82943e8b-f4b1-448e-8aca-16d133123b29",
   "metadata": {},
   "source": [
    "# Chemical Production Composition\n",
    "\n",
    "In this task we are solving a non-linear Problem using scipy.\n"
   ]
  },
  {
   "cell_type": "code",
   "execution_count": 2,
   "id": "8095465e-ed3c-4e70-9136-f253f6ff97c4",
   "metadata": {
    "tags": []
   },
   "outputs": [],
   "source": [
    "import numpy as np\n",
    "from scipy.optimize import minimize"
   ]
  },
  {
   "cell_type": "markdown",
   "id": "062c58ce-28f3-4762-9bb0-6416b8438477",
   "metadata": {},
   "source": [
    "## Defining the Decision Variables\n",
    "The decision variables in this problem are the amount to produce of each chemical product 1 and 2.\n",
    "\n",
    "To define the variables we will make an initial numpy array called **x0** of two elements where:\n",
    "- Product 1 --> x[0]\n",
    "- Product 2 --> x[1]"
   ]
  },
  {
   "cell_type": "code",
   "execution_count": 3,
   "id": "24c67d91-258c-4320-8750-5f4c7370b287",
   "metadata": {
    "tags": []
   },
   "outputs": [],
   "source": [
    "#we will assign an initial guess to each variable\n",
    "    \n",
    "x0 = np.zeros(2)\n",
    "x0[0] = 2.0\n",
    "x0[1] = 10.0"
   ]
  },
  {
   "cell_type": "markdown",
   "id": "b14c5bac-9a8a-4b62-896b-f8611dca5d0e",
   "metadata": {},
   "source": [
    "## Defining the Objective Function\n",
    "Given the price of the raw material, production cost of each product and the formula for their revenue, the function for the profit of each product can be described as below:\n",
    "- Product 1 profit: (30 - x[0])\\*x[0] - 3\\*x[0] - 10\\*x[0] --> 17\\*x[0] - x[0]\\*\\*2\n",
    "- Product 2 profit: (50 - 2\\*x[1])\\*x[1] - 5\\*x[1] - 10\\*x[1] --> 35\\*x[1] - 2\\*x[1]\\*\\*2\n",
    "\n",
    "The total profit formula is the summation of both profits above, shown below:\n",
    "- total profit(to maximize): 17\\*x[0] - x[0]\\*\\*2 + 35\\*x[1] - 2\\*x[1]\\*\\*2\n",
    "\n",
    "since we want to maximize this function and the tools we have allow us only to minimize a function, we will need to transform the formula into a minimization problem by multiplying it with -1:\n",
    "- total profit(to minimize):  x[0]\\*\\*2 - 17\\*x[0] + 2\\*x[1]\\*\\*2 - 35\\*x[1]"
   ]
  },
  {
   "cell_type": "code",
   "execution_count": 4,
   "id": "adfc39be-c23b-4e2e-ab2a-b6da47597183",
   "metadata": {
    "tags": []
   },
   "outputs": [],
   "source": [
    "#Now we will define the function above into a python function.\n",
    "def objective(x):\n",
    "    return x[0]**2 - 17*x[0] + 2*x[1]**2 - 35*x[1]"
   ]
  },
  {
   "cell_type": "markdown",
   "id": "572e3436-41ea-437a-8064-3eaa470fc2fe",
   "metadata": {},
   "source": [
    "## Defining the Constraints\n",
    "According to the problem, only 17.25 ounce of raw material can be acquired. To enforce this we will define a constraint where the summation of both products is less than 17.25.\n",
    "\n",
    "x[0] + x[1] - 17.25 <= 0\n",
    "\n",
    "However, Since scipy is implemented in a way to consider the constraints with greater or equal inequalities we need to transform our constraints by multiplying it with -1:\n",
    "\n",
    "-x[0] -x[1] + 17.25 >= 0"
   ]
  },
  {
   "cell_type": "code",
   "execution_count": 5,
   "id": "bdfff93b-b83f-4540-a0fa-7610158af0da",
   "metadata": {
    "tags": []
   },
   "outputs": [],
   "source": [
    "#Now we will define the inequality above as a python function.\n",
    "def constraint1(x):\n",
    "    return -x[0] - x[1] + 17.25"
   ]
  },
  {
   "cell_type": "markdown",
   "id": "b58a92ae-cbbc-48d8-a4e6-3cec7f5076cd",
   "metadata": {},
   "source": [
    "## Defining the bounds\n",
    "considering that production can not have negative values and also more than the 17.25 ounce of raw material, each product is bounded between 0 and 17.25"
   ]
  },
  {
   "cell_type": "code",
   "execution_count": 6,
   "id": "42023f2e-aaad-47ea-92d5-885fad789bcb",
   "metadata": {
    "tags": []
   },
   "outputs": [],
   "source": [
    "b = (0.0, 17.25)\n",
    "bnds = (b, b)"
   ]
  },
  {
   "cell_type": "markdown",
   "id": "8395d11c-8409-4b7e-b58d-4005117d09f2",
   "metadata": {},
   "source": [
    "## Transforming Objects and Running the Opitmization Object"
   ]
  },
  {
   "cell_type": "code",
   "execution_count": 7,
   "id": "3e976135-3fbf-46b0-8aba-50331bf580e0",
   "metadata": {
    "tags": []
   },
   "outputs": [
    {
     "name": "stdout",
     "output_type": "stream",
     "text": [
      "The total profit: 225.3749999999986\n",
      "Solution\n",
      "product 1 = 8.499999917604544 Oz\n",
      "product 2 = 8.749999168560677 Oz\n"
     ]
    }
   ],
   "source": [
    "con1 = {'type': 'ineq', 'fun': constraint1}\n",
    "cons = ([con1])\n",
    "\n",
    "solution = minimize(objective,x0,method='SLSQP',bounds=bnds,constraints=cons)\n",
    "x = solution.x\n",
    "\n",
    "# show final objective\n",
    "print('The total profit: ' + str(-objective(x)))\n",
    "\n",
    "# print solution\n",
    "print('Solution')\n",
    "print('product 1 = ' + str(x[0]) + ' Oz')\n",
    "print('product 2 = ' + str(x[1]) + ' Oz')"
   ]
  },
  {
   "cell_type": "markdown",
   "id": "014424e6-3a5c-4b9b-b470-b1d721b9fe1b",
   "metadata": {},
   "source": [
    "## Conclusions\n",
    "The solution to our nonlinear problem suggests that by producing roughly 8.5 nunce of Product 1 and 8.75 ounce of Poduct 2, the maximum profit can be reached at 225.345 dollar."
   ]
  }
 ],
 "metadata": {
  "kernelspec": {
   "display_name": "Python 3 (ipykernel)",
   "language": "python",
   "name": "python3"
  },
  "language_info": {
   "codemirror_mode": {
    "name": "ipython",
    "version": 3
   },
   "file_extension": ".py",
   "mimetype": "text/x-python",
   "name": "python",
   "nbconvert_exporter": "python",
   "pygments_lexer": "ipython3",
   "version": "3.8.18"
  }
 },
 "nbformat": 4,
 "nbformat_minor": 5
}
