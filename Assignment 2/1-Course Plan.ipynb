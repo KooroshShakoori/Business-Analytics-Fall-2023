{
 "cells": [
  {
   "cell_type": "markdown",
   "id": "2ed74639-d122-4b2a-bcd4-b5ed2e703e04",
   "metadata": {},
   "source": [
    "# Business Analytics - Assignment 2 - Question 1\n",
    "#### **Student Name:** Koorosh Shakoori"
   ]
  },
  {
   "cell_type": "markdown",
   "id": "35463050-b611-48f2-8018-50b3acc5ba2a",
   "metadata": {},
   "source": [
    "# Course Plan\n",
    "\n",
    "In this task we are solving a IP Set Covering Problem using PULP.\n"
   ]
  },
  {
   "cell_type": "code",
   "execution_count": 3,
   "id": "4059cf77-3af5-4c52-8c6a-4f64659d5a4e",
   "metadata": {
    "tags": []
   },
   "outputs": [],
   "source": [
    "from pulp import *"
   ]
  },
  {
   "cell_type": "markdown",
   "id": "71826042-b2d2-4099-8682-c28728ef7659",
   "metadata": {},
   "source": [
    "## Defining the Decision Variables\n",
    "The decision variables in this problem are the binary variables for all the available courses.\n",
    "The binary variables are defined as:\n",
    "- 1 -> if the course is taken\n",
    "- 0 -> if the course is not taken\n",
    "\n",
    "Hence we will make a list of the courses and iterate through them to define the variables in pulp."
   ]
  },
  {
   "cell_type": "code",
   "execution_count": 15,
   "id": "2f57b6b4-b399-46ce-8448-c9cc527df071",
   "metadata": {},
   "outputs": [],
   "source": [
    "Courses = [\n",
    "    'Calculus',\n",
    "    'Operations_Research',\n",
    "    'Data_Structures',\n",
    "    'Business_Statistics',\n",
    "    'Computer_Simulation',\n",
    "    'Introduction_to_Computer_Programming',\n",
    "    'Forecasting'\n",
    "]\n",
    "\n",
    "Mathematics_Courses = [\n",
    "    'Calculus',\n",
    "    'Operations_Research',\n",
    "    'Data_Structures',\n",
    "    'Business_Statistics',\n",
    "    'Forecasting'\n",
    "]\n",
    "\n",
    "Computer_Courses = [\n",
    "    'Data_Structures',\n",
    "    'Computer_Simulation',\n",
    "    'Introduction_to_Computer_Programming',\n",
    "]\n",
    "\n",
    "OR_Courses = [\n",
    "    'Operations_Research',\n",
    "    'Business_Statistics',\n",
    "    'Computer_Simulation',\n",
    "    'Forecasting'\n",
    "]\n",
    "\n",
    "Courses_Variables = LpVariable.dicts('Course', Courses, cat = LpBinary)"
   ]
  },
  {
   "cell_type": "markdown",
   "id": "0047f65c-de0f-4c4e-bf85-dcffce1b30aa",
   "metadata": {
    "tags": []
   },
   "source": [
    "## Defining the Objective Function\n",
    "Given that graduation in this program needs some set requirements to be fulfilled, the problem asks for the minimum number of courses taken while satisfying all three requirements.\n",
    "Therefore the objective function is defined as below:"
   ]
  },
  {
   "cell_type": "code",
   "execution_count": 20,
   "id": "30b5767c-4cf7-4afd-befa-88107ca50b47",
   "metadata": {},
   "outputs": [],
   "source": [
    "#First we will intialize a LP problem object from pulp with the objective to minimize to fit our objective described below.\n",
    "prob = LpProblem('Course_Plan', LpMinimize)\n",
    "\n",
    "#Now we will add our objective function which is the summation of the number of all courses, defined in the cell above as binary variables\n",
    "prob += lpSum([Courses_Variables[c] for c in Courses])"
   ]
  },
  {
   "cell_type": "markdown",
   "id": "9c375eaf-1f6f-4ec7-95d4-c801697669b4",
   "metadata": {
    "tags": []
   },
   "source": [
    "## Defining the Constraints\n",
    "Now we set Constraints as required in the assignments, we need to address:\n",
    "- The first three constraints are in place to make sure that enough courses in each requirement is taken:\n",
    "    - At least two Mathematics courses\n",
    "    - At least two Computer courses\n",
    "    - At least two OR courses\n",
    "- Other constraints are defined over the prerequisites(Meaning we can not take the course on the right side without having the one on the left):\n",
    "    - Calculus --> Business Statistics\n",
    "    - Introduction to Computer Programming --> Computer Simulation\n",
    "    - Introduction to Computer Programming --> Data Structures\n",
    "    - Business Statistics --> Forecasting\n"
   ]
  },
  {
   "cell_type": "code",
   "execution_count": 21,
   "id": "229ca77c-1319-44f3-b5c4-7c5d3587217f",
   "metadata": {},
   "outputs": [],
   "source": [
    "#For the requirement constraints, we use the predefined lists of courses that will satisfy one point for each requirement.\n",
    "prob += lpSum([Courses_Variables[c]for c in Mathematics_Courses]) >= 2 , 'Mathematics_Requirement'\n",
    "prob += lpSum([Courses_Variables[c]for c in Computer_Courses]) >= 2 , 'Computer_Requirement'\n",
    "prob += lpSum([Courses_Variables[c]for c in OR_Courses]) >= 2 , 'OR_Requirement'\n",
    "\n",
    "#For prerequisites we will use an inequality to declare the dependance.\n",
    "prob += Courses_Variables['Calculus'] - Courses_Variables['Business_Statistics'] >= 0, 'Business_Statistics_Prerequisite'\n",
    "prob += Courses_Variables['Introduction_to_Computer_Programming'] - Courses_Variables['Computer_Simulation'] >= 0, 'Computer_Simulation_Prerequisite'\n",
    "prob += Courses_Variables['Introduction_to_Computer_Programming'] - Courses_Variables['Data_Structures'] >= 0, 'Data_Structures_Prerequisite'\n",
    "prob += Courses_Variables['Business_Statistics'] - Courses_Variables['Forecasting'] >= 0, 'Forecasting_Prerequisite'"
   ]
  },
  {
   "cell_type": "code",
   "execution_count": 23,
   "id": "c121d9d9-cab7-43e7-86c5-932af3882e70",
   "metadata": {
    "tags": []
   },
   "outputs": [
    {
     "data": {
      "text/plain": [
       "Course_Plan:\n",
       "MINIMIZE\n",
       "1*Course_Business_Statistics + 1*Course_Calculus + 1*Course_Computer_Simulation + 1*Course_Data_Structures + 1*Course_Forecasting + 1*Course_Introduction_to_Computer_Programming + 1*Course_Operations_Research + 0\n",
       "SUBJECT TO\n",
       "Mathematics_Requirement: Course_Business_Statistics + Course_Calculus\n",
       " + Course_Data_Structures + Course_Forecasting + Course_Operations_Research\n",
       " >= 2\n",
       "\n",
       "Computer_Requirement: Course_Computer_Simulation + Course_Data_Structures\n",
       " + Course_Introduction_to_Computer_Programming >= 2\n",
       "\n",
       "OR_Requirement: Course_Business_Statistics + Course_Computer_Simulation\n",
       " + Course_Forecasting + Course_Operations_Research >= 2\n",
       "\n",
       "Business_Statistics_Prerequisite: - Course_Business_Statistics\n",
       " + Course_Calculus >= 0\n",
       "\n",
       "Computer_Simulation_Prerequisite: - Course_Computer_Simulation\n",
       " + Course_Introduction_to_Computer_Programming >= 0\n",
       "\n",
       "Data_Structures_Prerequisite: - Course_Data_Structures\n",
       " + Course_Introduction_to_Computer_Programming >= 0\n",
       "\n",
       "Forecasting_Prerequisite: Course_Business_Statistics - Course_Forecasting >= 0\n",
       "\n",
       "VARIABLES\n",
       "0 <= Course_Business_Statistics <= 1 Integer\n",
       "0 <= Course_Calculus <= 1 Integer\n",
       "0 <= Course_Computer_Simulation <= 1 Integer\n",
       "0 <= Course_Data_Structures <= 1 Integer\n",
       "0 <= Course_Forecasting <= 1 Integer\n",
       "0 <= Course_Introduction_to_Computer_Programming <= 1 Integer\n",
       "0 <= Course_Operations_Research <= 1 Integer"
      ]
     },
     "execution_count": 23,
     "metadata": {},
     "output_type": "execute_result"
    }
   ],
   "source": [
    "#Here we get an overall report on all sides of the problem\n",
    "prob"
   ]
  },
  {
   "cell_type": "code",
   "execution_count": 24,
   "id": "fb2da6f3-f6ec-430a-97e9-d6dcaa3f1a03",
   "metadata": {
    "tags": []
   },
   "outputs": [
    {
     "data": {
      "text/plain": [
       "1"
      ]
     },
     "execution_count": 24,
     "metadata": {},
     "output_type": "execute_result"
    }
   ],
   "source": [
    "prob.solve(PULP_CBC_CMD(msg=0))"
   ]
  },
  {
   "cell_type": "code",
   "execution_count": 37,
   "id": "10fe7279-d4c1-4025-bd21-43c2dc12bb8d",
   "metadata": {
    "tags": []
   },
   "outputs": [
    {
     "name": "stdout",
     "output_type": "stream",
     "text": [
      "The poptimal number of courses to take is: 4.0\n",
      "The courses to be taken are as follows: ['Course_Computer_Simulation', 'Course_Data_Structures', 'Course_Introduction_to_Computer_Programming', 'Course_Operations_Research']\n",
      "The courses NOT to be taken are as follows: ['Course_Business_Statistics', 'Course_Calculus', 'Course_Forecasting']\n"
     ]
    }
   ],
   "source": [
    "#The optimal number of courses to take is as described below.\n",
    "#The lists indicate which courses to be taken and which courses not to be taken\n",
    "print(f'The optimal number of courses to take is: {prob.objective.value()}')\n",
    "print('The courses to be taken are as follows:', [var.name for var in prob.variables() if var.varValue])\n",
    "print('The courses NOT to be taken are as follows:', [var.name for var in prob.variables() if not var.varValue])"
   ]
  },
  {
   "cell_type": "markdown",
   "id": "75fd1312-2991-4f26-a137-fdc81d031e73",
   "metadata": {},
   "source": [
    "## Conclusion\n",
    "The plan given above suggests the most optimal course plan for graduation, fulfilling all the requirements and prerequisites defined in the problem.\n",
    "\n",
    "The optimal number of Courses to be taken is 4, which is shown below: \n",
    "- Operations Research\n",
    "- Data Structures\n",
    "- Computer Simulations\n",
    "- Introduction to Computer Programming"
   ]
  }
 ],
 "metadata": {
  "kernelspec": {
   "display_name": "Python 3 (ipykernel)",
   "language": "python",
   "name": "python3"
  },
  "language_info": {
   "codemirror_mode": {
    "name": "ipython",
    "version": 3
   },
   "file_extension": ".py",
   "mimetype": "text/x-python",
   "name": "python",
   "nbconvert_exporter": "python",
   "pygments_lexer": "ipython3",
   "version": "3.8.18"
  }
 },
 "nbformat": 4,
 "nbformat_minor": 5
}
