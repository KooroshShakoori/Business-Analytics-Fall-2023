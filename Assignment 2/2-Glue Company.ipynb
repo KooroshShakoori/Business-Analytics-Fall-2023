{
 "cells": [
  {
   "cell_type": "markdown",
   "id": "07909e16-8823-478b-8704-fd483cd6cd2c",
   "metadata": {},
   "source": [
    "# Business Analytics - Assignment 2 - Question 2\n",
    "#### **Student Name:** Koorosh Shakoori"
   ]
  },
  {
   "cell_type": "markdown",
   "id": "dedd4fa9-f0d2-41ce-94a1-8824164f5f09",
   "metadata": {},
   "source": [
    "## Glue Company\n",
    "\n",
    "In this task we are solving a Fixed Charge IP problem using PULP."
   ]
  },
  {
   "cell_type": "code",
   "execution_count": 26,
   "id": "58caaa4b-f8d4-4cce-957e-cbce69a8632c",
   "metadata": {
    "tags": []
   },
   "outputs": [],
   "source": [
    "from pulp import *"
   ]
  },
  {
   "cell_type": "markdown",
   "id": "f5d958a5-8b7c-4f1e-95d2-e629aadca49a",
   "metadata": {},
   "source": [
    "## Defining the Decision Variables\n",
    "\n",
    "The decision variables in this problem are two fold:\n",
    "- First set of decision variables are the number of workers for each line. This variable is of Integer type and can vary between 0 and 7.\n",
    "- The second set of decision variables are the decision to either set up a specific line for production or not. This Variables is of Binary type and the equivalent element of the first set is dependant on this variable.\n",
    "    - 1 if the line is set up\n",
    "    - 0 if the line not set up"
   ]
  },
  {
   "cell_type": "code",
   "execution_count": 27,
   "id": "5bece1a1-bb0e-498e-b224-477698f6c543",
   "metadata": {
    "tags": []
   },
   "outputs": [],
   "source": [
    "Lines = [\n",
    "    'Line_1',\n",
    "    'Line_2'\n",
    "]\n",
    "Workers_Fee = {\n",
    "    'Line_1': 500,\n",
    "    'Line_2': 900\n",
    "}\n",
    "\n",
    "Setup_Fee = {\n",
    "    'Line_1': 1000,\n",
    "    'Line_2': 2000\n",
    "}\n",
    "\n",
    "Glue_1 = {\n",
    "    'Line_1': 20,\n",
    "    'Line_2': 50\n",
    "}\n",
    "\n",
    "Glue_2 = {\n",
    "    'Line_1': 30,\n",
    "    'Line_2': 35\n",
    "}\n",
    "\n",
    "Glue_3 = {\n",
    "    'Line_1': 40,\n",
    "    'Line_2': 45\n",
    "}\n",
    "\n",
    "Workers_variables = LpVariable.dicts('Workers', Lines, 0, cat=LpInteger)\n",
    "Setup_variables = LpVariable.dicts('Setup', Lines, 0, cat=LpBinary)"
   ]
  },
  {
   "cell_type": "markdown",
   "id": "410c2e9d-ce28-4276-acdf-241182e16afc",
   "metadata": {},
   "source": [
    "## Defining the Objective Function\n",
    "Given the fee to employ a worker in each line is set by the problem and setting up each line has an initial cost, we will have a function for the cost of production which we need to minimize according to the needs of the problem.\n",
    "Therefore, the objective function is defined as below:"
   ]
  },
  {
   "cell_type": "code",
   "execution_count": 28,
   "id": "247abff1-6a53-4539-aa70-ad0a8fbabbb4",
   "metadata": {
    "tags": []
   },
   "outputs": [],
   "source": [
    "#First we will intialize a LP problem object from pulp with the objective to minimize to fit our objective described below.\n",
    "prob = LpProblem('Course_Plan', LpMinimize)\n",
    "\n",
    "#Now we will add our objective function which is the cost of setting up the lines and hiring workers for each line\n",
    "prob += lpSum([Workers_variables[line]*Workers_Fee[line] + Setup_variables[line]*Setup_Fee[line] for line in Lines])"
   ]
  },
  {
   "cell_type": "markdown",
   "id": "b8e572f5-519a-4b68-8874-1f94f71579f7",
   "metadata": {
    "tags": []
   },
   "source": [
    "## Defining the Constraints\n",
    "Now we set Constraints as required in the assignments, we need to address:\n",
    "- The first three constraints is for satisfying the demands for each type of glue on a weekly basis:\n",
    "    - Type 1 Glue -> At least 120\n",
    "    - Type 2 Glue -> At least 150\n",
    "    - Type 3 Glue -> At least 200\n",
    "- The maximum number of workers in each line can be 7.\n",
    "- The next two constraints are to assure that the problem solver understands that if one line is used it needs to be setup and paid for. We use the BigM variable for this Purpose."
   ]
  },
  {
   "cell_type": "code",
   "execution_count": 29,
   "id": "89b11303-b3fd-483b-b701-1f1241ecf3d3",
   "metadata": {
    "tags": []
   },
   "outputs": [],
   "source": [
    "#For the first three constraints we use the glue dictionaries that we defined which show the production of glue per worker in each line:\n",
    "prob += lpSum([Workers_variables[line]*Glue_1[line] for line in Lines]) >= 120, 'Glue_1_Demand'\n",
    "prob += lpSum([Workers_variables[line]*Glue_2[line] for line in Lines]) >= 150, 'Glue_2_Demand'\n",
    "prob += lpSum([Workers_variables[line]*Glue_3[line] for line in Lines]) >= 200, 'Glue_3_Demand'\n",
    "\n",
    "BigM = 10\n",
    "for line in Lines:\n",
    "    #For these constraints we only need to address the number of workers:\n",
    "    prob += Workers_variables[line] <= 7, f'{line}_Maximum_Capacity'\n",
    "    \n",
    "    #The next two constraints will use BigM concept to stop our solver to assign production in lanes that are not set up and paid for:\n",
    "    prob += Workers_variables[line] - BigM*Setup_variables[line] <= 0, f'{line}_Setup_Control'\n"
   ]
  },
  {
   "cell_type": "code",
   "execution_count": 30,
   "id": "8c113d44-2c6c-4580-bf7c-64d33ff4aea2",
   "metadata": {
    "tags": []
   },
   "outputs": [
    {
     "data": {
      "text/plain": [
       "Course_Plan:\n",
       "MINIMIZE\n",
       "1000*Setup_Line_1 + 2000*Setup_Line_2 + 500*Workers_Line_1 + 900*Workers_Line_2 + 0\n",
       "SUBJECT TO\n",
       "Glue_1_Demand: 20 Workers_Line_1 + 50 Workers_Line_2 >= 120\n",
       "\n",
       "Glue_2_Demand: 30 Workers_Line_1 + 35 Workers_Line_2 >= 150\n",
       "\n",
       "Glue_3_Demand: 40 Workers_Line_1 + 45 Workers_Line_2 >= 200\n",
       "\n",
       "Line_1_Maximum_Capacity: Workers_Line_1 <= 7\n",
       "\n",
       "Line_1_Setup_Control: - 10 Setup_Line_1 + Workers_Line_1 <= 0\n",
       "\n",
       "Line_2_Maximum_Capacity: Workers_Line_2 <= 7\n",
       "\n",
       "Line_2_Setup_Control: - 10 Setup_Line_2 + Workers_Line_2 <= 0\n",
       "\n",
       "VARIABLES\n",
       "0 <= Setup_Line_1 <= 1 Integer\n",
       "0 <= Setup_Line_2 <= 1 Integer\n",
       "0 <= Workers_Line_1 Integer\n",
       "0 <= Workers_Line_2 Integer"
      ]
     },
     "execution_count": 30,
     "metadata": {},
     "output_type": "execute_result"
    }
   ],
   "source": [
    "#Here we get an overall report on all sides of the problem\n",
    "prob"
   ]
  },
  {
   "cell_type": "code",
   "execution_count": 31,
   "id": "65f2eac0-eb4b-441b-ab6b-f261fe53ab22",
   "metadata": {
    "tags": []
   },
   "outputs": [
    {
     "data": {
      "text/plain": [
       "1"
      ]
     },
     "execution_count": 31,
     "metadata": {},
     "output_type": "execute_result"
    }
   ],
   "source": [
    "prob.solve(PULP_CBC_CMD(msg=0))"
   ]
  },
  {
   "cell_type": "code",
   "execution_count": 32,
   "id": "51c15cbb-2e27-4f50-bea0-f3917bbbc7e1",
   "metadata": {
    "tags": []
   },
   "outputs": [
    {
     "name": "stdout",
     "output_type": "stream",
     "text": [
      "Setup_Line_1 = 1.0\n",
      "Setup_Line_2 = 0.0\n",
      "Workers_Line_1 = 6.0\n",
      "Workers_Line_2 = 0.0\n",
      "The total weekly production cost = 4000.0\n"
     ]
    }
   ],
   "source": [
    "#The optimal hiring and setup profile is shown below.\n",
    "#The total weekly cost of the process is also mentioned.\n",
    "for var in prob.variables():\n",
    "    print(f'{var.name} = {var.varValue}')\n",
    "print(f'The total weekly production cost = {prob.objective.value()}')"
   ]
  },
  {
   "cell_type": "markdown",
   "id": "f879a716-2f03-4184-9d7d-98e0e69807e8",
   "metadata": {},
   "source": [
    "## Conclusions\n",
    "The numbers above explain the optimal solution which shows **only line number 1 needs to be setup** with **6 workers hired** to meet the weekly demand.\n",
    "\n",
    "The cost of production in this case will be **4000** which is the least amount of money to meet the demand.\n"
   ]
  }
 ],
 "metadata": {
  "kernelspec": {
   "display_name": "Python 3 (ipykernel)",
   "language": "python",
   "name": "python3"
  },
  "language_info": {
   "codemirror_mode": {
    "name": "ipython",
    "version": 3
   },
   "file_extension": ".py",
   "mimetype": "text/x-python",
   "name": "python",
   "nbconvert_exporter": "python",
   "pygments_lexer": "ipython3",
   "version": "3.8.18"
  }
 },
 "nbformat": 4,
 "nbformat_minor": 5
}
