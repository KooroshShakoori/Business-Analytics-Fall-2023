{
 "cells": [
  {
   "cell_type": "markdown",
   "id": "a0d97d54-4292-4e96-aa73-1de9caddca1e",
   "metadata": {},
   "source": [
    "# Business Analytics - Assignment 1 - Question 2\n",
    "#### **Student Name:** Koorosh Shakoori"
   ]
  },
  {
   "cell_type": "markdown",
   "id": "864d9f6b-1908-4fc3-b359-ad2e16e5a7e2",
   "metadata": {
    "tags": []
   },
   "source": [
    "# Computer Assembly Plan\n",
    "This task falls into the Multiperiod Production Models Category."
   ]
  },
  {
   "cell_type": "code",
   "execution_count": 2,
   "id": "0eba3c84-c448-4b53-a7ec-901226f57f38",
   "metadata": {
    "tags": []
   },
   "outputs": [],
   "source": [
    "from pulp import *"
   ]
  },
  {
   "cell_type": "markdown",
   "id": "3fa70869-927d-47aa-ad3e-3628bd8f82c4",
   "metadata": {},
   "source": [
    "## Defining the decision variables\n",
    "To define the decision variables define a weeks list to iterate over for defining Regular, Overtime and, inventory cost variables."
   ]
  },
  {
   "cell_type": "code",
   "execution_count": 3,
   "id": "92e76b37-049a-4109-a4e7-253bef5b8681",
   "metadata": {
    "tags": []
   },
   "outputs": [],
   "source": [
    "weeks = ['Week1', 'Week2', 'Week3', 'Week4', 'Week5', 'Week6']\n",
    "Regular_Cost = 190\n",
    "Overtime_Cost = 260\n",
    "Inventory_Cost = 10\n",
    "\n",
    "Regular = LpVariable.dicts('Regular_production', weeks, 0)\n",
    "Overtime = LpVariable.dicts('Overtime_Production', weeks, 0)\n",
    "Inventory = LpVariable.dicts('Inventory', weeks, 0)"
   ]
  },
  {
   "cell_type": "markdown",
   "id": "37099f72-fad7-4946-a6b2-6e9b8fc233f5",
   "metadata": {},
   "source": [
    "## Defining the Objective Function\n",
    "Given the cost of each operation, the problem asks for minimum cost while meeting all the conditions.\n",
    "Therefore the objective function is defined as below:"
   ]
  },
  {
   "cell_type": "code",
   "execution_count": 4,
   "id": "f43546bd-c997-440e-8827-a6b775da18a0",
   "metadata": {
    "tags": []
   },
   "outputs": [],
   "source": [
    "#initializing the LpProblem object from pulp with minimize functionality\n",
    "prob = LpProblem('Computer_Assembly_Plan', LpMinimize)\n",
    "prob += lpSum([Regular[week]*Regular_Cost + Overtime[week]*Overtime_Cost + Inventory[week]*Inventory_Cost for week in weeks])"
   ]
  },
  {
   "cell_type": "markdown",
   "id": "23e9f829-0951-4074-98ec-e701bd7637d8",
   "metadata": {
    "tags": []
   },
   "source": [
    "## Defining Constraints\n",
    "Since this is a multiperiod production model, we need to define supply-demand balance equations as constraints.\n",
    "On top of that we will have to limit the regular and overtime productions to their respective amount."
   ]
  },
  {
   "cell_type": "code",
   "execution_count": 5,
   "id": "a7ed4c15-d5a7-4b99-8730-e9afe80a228f",
   "metadata": {
    "tags": []
   },
   "outputs": [],
   "source": [
    "#we first put the limits on production rates\n",
    "for week in weeks:\n",
    "    prob += Regular[week] <= 160, f'{week} regular production limit'\n",
    "    prob += Overtime[week] <= 50, f'{week} overtime production limit'\n",
    "\n",
    "#Balance Equations\n",
    "prob += Regular['Week1'] + Overtime['Week1'] - Inventory['Week1'] == 105, 'Week1_demand'\n",
    "prob += Regular['Week2'] + Overtime['Week2'] + Inventory['Week1'] - Inventory['Week2'] == 170, 'Week2_demand'\n",
    "prob += Regular['Week3'] + Overtime['Week3'] + Inventory['Week2'] - Inventory['Week3'] == 230, 'Week3_demand'\n",
    "prob += Regular['Week4'] + Overtime['Week4'] + Inventory['Week3'] - Inventory['Week4'] == 180, 'Week4_demand'\n",
    "prob += Regular['Week5'] + Overtime['Week5'] + Inventory['Week4'] - Inventory['Week5'] == 150, 'Week5_demand'\n",
    "prob += Regular['Week6'] + Overtime['Week6'] + Inventory['Week5'] == 250, 'Week6_demand'"
   ]
  },
  {
   "cell_type": "code",
   "execution_count": 6,
   "id": "8d49c02d-7fc5-4f9f-869f-b3d4743cd69b",
   "metadata": {
    "tags": []
   },
   "outputs": [
    {
     "data": {
      "text/plain": [
       "Computer_Assembly_Plan:\n",
       "MINIMIZE\n",
       "10*Inventory_Week1 + 10*Inventory_Week2 + 10*Inventory_Week3 + 10*Inventory_Week4 + 10*Inventory_Week5 + 10*Inventory_Week6 + 260*Overtime_Production_Week1 + 260*Overtime_Production_Week2 + 260*Overtime_Production_Week3 + 260*Overtime_Production_Week4 + 260*Overtime_Production_Week5 + 260*Overtime_Production_Week6 + 190*Regular_production_Week1 + 190*Regular_production_Week2 + 190*Regular_production_Week3 + 190*Regular_production_Week4 + 190*Regular_production_Week5 + 190*Regular_production_Week6 + 0\n",
       "SUBJECT TO\n",
       "Week1_regular_production_limit: Regular_production_Week1 <= 160\n",
       "\n",
       "Week1_overtime_production_limit: Overtime_Production_Week1 <= 50\n",
       "\n",
       "Week2_regular_production_limit: Regular_production_Week2 <= 160\n",
       "\n",
       "Week2_overtime_production_limit: Overtime_Production_Week2 <= 50\n",
       "\n",
       "Week3_regular_production_limit: Regular_production_Week3 <= 160\n",
       "\n",
       "Week3_overtime_production_limit: Overtime_Production_Week3 <= 50\n",
       "\n",
       "Week4_regular_production_limit: Regular_production_Week4 <= 160\n",
       "\n",
       "Week4_overtime_production_limit: Overtime_Production_Week4 <= 50\n",
       "\n",
       "Week5_regular_production_limit: Regular_production_Week5 <= 160\n",
       "\n",
       "Week5_overtime_production_limit: Overtime_Production_Week5 <= 50\n",
       "\n",
       "Week6_regular_production_limit: Regular_production_Week6 <= 160\n",
       "\n",
       "Week6_overtime_production_limit: Overtime_Production_Week6 <= 50\n",
       "\n",
       "Week1_demand: - Inventory_Week1 + Overtime_Production_Week1\n",
       " + Regular_production_Week1 = 105\n",
       "\n",
       "Week2_demand: Inventory_Week1 - Inventory_Week2 + Overtime_Production_Week2\n",
       " + Regular_production_Week2 = 170\n",
       "\n",
       "Week3_demand: Inventory_Week2 - Inventory_Week3 + Overtime_Production_Week3\n",
       " + Regular_production_Week3 = 230\n",
       "\n",
       "Week4_demand: Inventory_Week3 - Inventory_Week4 + Overtime_Production_Week4\n",
       " + Regular_production_Week4 = 180\n",
       "\n",
       "Week5_demand: Inventory_Week4 - Inventory_Week5 + Overtime_Production_Week5\n",
       " + Regular_production_Week5 = 150\n",
       "\n",
       "Week6_demand: Inventory_Week5 + Overtime_Production_Week6\n",
       " + Regular_production_Week6 = 250\n",
       "\n",
       "VARIABLES\n",
       "Inventory_Week1 Continuous\n",
       "Inventory_Week2 Continuous\n",
       "Inventory_Week3 Continuous\n",
       "Inventory_Week4 Continuous\n",
       "Inventory_Week5 Continuous\n",
       "Inventory_Week6 Continuous\n",
       "Overtime_Production_Week1 Continuous\n",
       "Overtime_Production_Week2 Continuous\n",
       "Overtime_Production_Week3 Continuous\n",
       "Overtime_Production_Week4 Continuous\n",
       "Overtime_Production_Week5 Continuous\n",
       "Overtime_Production_Week6 Continuous\n",
       "Regular_production_Week1 Continuous\n",
       "Regular_production_Week2 Continuous\n",
       "Regular_production_Week3 Continuous\n",
       "Regular_production_Week4 Continuous\n",
       "Regular_production_Week5 Continuous\n",
       "Regular_production_Week6 Continuous"
      ]
     },
     "execution_count": 6,
     "metadata": {},
     "output_type": "execute_result"
    }
   ],
   "source": [
    "#Here we get an overall report on all sides of the problem\n",
    "prob"
   ]
  },
  {
   "cell_type": "code",
   "execution_count": 7,
   "id": "a1af6f97-12e2-4c9e-882d-a4ac4a5f1252",
   "metadata": {
    "tags": []
   },
   "outputs": [
    {
     "data": {
      "text/plain": [
       "1"
      ]
     },
     "execution_count": 7,
     "metadata": {},
     "output_type": "execute_result"
    }
   ],
   "source": [
    "prob.solve(PULP_CBC_CMD(msg=0))"
   ]
  },
  {
   "cell_type": "code",
   "execution_count": 8,
   "id": "528345ca-574a-43f8-843f-74f16408a6e6",
   "metadata": {
    "tags": []
   },
   "outputs": [
    {
     "name": "stdout",
     "output_type": "stream",
     "text": [
      "Inventory_Week1 = 55.0\n",
      "Inventory_Week2 = 45.0\n",
      "Inventory_Week3 = 0.0\n",
      "Inventory_Week4 = 0.0\n",
      "Inventory_Week5 = 40.0\n",
      "Inventory_Week6 = 0.0\n",
      "Overtime_Production_Week1 = 0.0\n",
      "Overtime_Production_Week2 = 0.0\n",
      "Overtime_Production_Week3 = 25.0\n",
      "Overtime_Production_Week4 = 20.0\n",
      "Overtime_Production_Week5 = 30.0\n",
      "Overtime_Production_Week6 = 50.0\n",
      "Regular_production_Week1 = 160.0\n",
      "Regular_production_Week2 = 160.0\n",
      "Regular_production_Week3 = 160.0\n",
      "Regular_production_Week4 = 160.0\n",
      "Regular_production_Week5 = 160.0\n",
      "Regular_production_Week6 = 160.0\n",
      "Overall cost of production = 216300.0\n"
     ]
    }
   ],
   "source": [
    "#The optimal solution is as explained below.\n",
    "#The overal cost is mention at the end.\n",
    "for var in prob.variables():\n",
    "    print(f'{var.name} = {var.varValue}')\n",
    "print(f'Overall cost of production = {prob.objective.value()}')"
   ]
  },
  {
   "cell_type": "code",
   "execution_count": 13,
   "id": "d7e093e0-8605-4191-8a9a-803d8133f682",
   "metadata": {
    "tags": []
   },
   "outputs": [
    {
     "name": "stdout",
     "output_type": "stream",
     "text": [
      "\n",
      "Sensitivity Analysis\n",
      "                    Constraint_Name  Slack  Shadow_Price\n",
      "0    Week1_regular_production_limit   -0.0         -50.0\n",
      "1   Week1_overtime_production_limit   50.0           0.0\n",
      "2    Week2_regular_production_limit   -0.0         -60.0\n",
      "3   Week2_overtime_production_limit   50.0           0.0\n",
      "4    Week3_regular_production_limit   -0.0         -70.0\n",
      "5   Week3_overtime_production_limit   25.0           0.0\n",
      "6    Week4_regular_production_limit   -0.0         -70.0\n",
      "7   Week4_overtime_production_limit   30.0           0.0\n",
      "8    Week5_regular_production_limit   -0.0         -70.0\n",
      "9   Week5_overtime_production_limit   20.0           0.0\n",
      "10   Week6_regular_production_limit   -0.0         -80.0\n",
      "11  Week6_overtime_production_limit   -0.0         -10.0\n",
      "12                     Week1_demand   -0.0         240.0\n",
      "13                     Week2_demand   -0.0         250.0\n",
      "14                     Week3_demand   -0.0         260.0\n",
      "15                     Week4_demand   -0.0         260.0\n",
      "16                     Week5_demand   -0.0         260.0\n",
      "17                     Week6_demand   -0.0         270.0\n"
     ]
    }
   ],
   "source": [
    "import pandas as pd\n",
    "#Report Sensitivity Analysis\n",
    "print(\"\\nSensitivity Analysis\")\n",
    "Cons_Sensitivity_Report=[{'Constraint_Name':name,'Slack':c.slack,\"Shadow_Price\":c.pi}\n",
    "                         for name, c in prob.constraints.items()]\n",
    "print(pd.DataFrame(Cons_Sensitivity_Report))"
   ]
  },
  {
   "cell_type": "markdown",
   "id": "60251e3e-1e5f-4a4b-8d09-7b821706bbe8",
   "metadata": {},
   "source": [
    "## Answer to question B\n",
    "**Week 6.** According to the shadow price chart, increasing the regular price capacity in week 6 will be the most impactful in lowering the cost, with each capacity reducing the overal cost by 80 dollars. This is due to lack of inventory cost in the last week. "
   ]
  }
 ],
 "metadata": {
  "kernelspec": {
   "display_name": "Python 3 (ipykernel)",
   "language": "python",
   "name": "python3"
  },
  "language_info": {
   "codemirror_mode": {
    "name": "ipython",
    "version": 3
   },
   "file_extension": ".py",
   "mimetype": "text/x-python",
   "name": "python",
   "nbconvert_exporter": "python",
   "pygments_lexer": "ipython3",
   "version": "3.8.18"
  }
 },
 "nbformat": 4,
 "nbformat_minor": 5
}
