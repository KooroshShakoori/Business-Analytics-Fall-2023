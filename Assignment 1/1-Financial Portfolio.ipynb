{
 "cells": [
  {
   "cell_type": "markdown",
   "id": "6903c933-7d87-49cd-9742-754cc6ed9361",
   "metadata": {},
   "source": [
    "# Business Analytics - Assignment 1 - Question 1\n",
    "#### **Student Name:** Koorosh Shakoori"
   ]
  },
  {
   "cell_type": "markdown",
   "id": "cd649901-4de4-454d-acf3-27b01f293bbf",
   "metadata": {},
   "source": [
    "# Financial Portfolio\n",
    "\n",
    "In this task we need to solve a linear programming problem using pulp."
   ]
  },
  {
   "cell_type": "code",
   "execution_count": 2,
   "id": "85091286-a834-4511-be9d-0a262c8f87ce",
   "metadata": {
    "tags": []
   },
   "outputs": [],
   "source": [
    "from pulp import *"
   ]
  },
  {
   "cell_type": "markdown",
   "id": "1e18f5f4-d998-4bf6-a9cf-eaf2d02dc3ad",
   "metadata": {},
   "source": [
    "## Defining the decision variables\n",
    "To define the decision variables we make a Funds list to iterate over and define the variables,and two dictionaries for Annual Return and Risk Measure for later purposes."
   ]
  },
  {
   "cell_type": "code",
   "execution_count": 3,
   "id": "ee91d15b-5bd1-446c-8f46-69be9c674be7",
   "metadata": {
    "tags": []
   },
   "outputs": [],
   "source": [
    "#First we define the funds and its features as lists and dictionaries\n",
    "Funds = [\n",
    "    'Low-Priced_Stock_Fund',\n",
    "    'Multinational_Fund',\n",
    "    'Mid-Cap_Stock_Fund',\n",
    "    'Mortgage_Fund',\n",
    "    'Income_Equity_Fund',\n",
    "    'Balanced_Fund'\n",
    "]\n",
    "\n",
    "Annual_Return = {\n",
    "    'Low-Priced_Stock_Fund': 8.13,\n",
    "    'Multinational_Fund': 9.02,\n",
    "    'Mid-Cap_Stock_Fund': 7.56,\n",
    "    'Mortgage_Fund': 3.62,\n",
    "    'Income_Equity_Fund': 7.79,\n",
    "    'Balanced_Fund': 4.4\n",
    "}\n",
    "\n",
    "Risk_Measure = {\n",
    "    'Low-Priced_Stock_Fund': 10.57,\n",
    "    'Multinational_Fund': 13.22,\n",
    "    'Mid-Cap_Stock_Fund': 14.02,\n",
    "    'Mortgage_Fund': 2.39,\n",
    "    'Income_Equity_Fund': 9.3,\n",
    "    'Balanced_Fund': 7.61\n",
    "}\n",
    "\n",
    "#The decision variables in this problem are the amount of investment in each fund out of the six available shown in Funds list above.\n",
    "#It is clear that we cannot invest negative amounts, hence, the lowbound is set to zero.\n",
    "invest_variables = LpVariable.dicts('Invest', Funds, lowBound=0)"
   ]
  },
  {
   "cell_type": "markdown",
   "id": "2ebdbc7a-8437-4542-b995-067d383009af",
   "metadata": {},
   "source": [
    "## Defining the Objective Function\n",
    "Given the Risk measure of each fund, the problem asks for minimum weighted risk while meeting all the conditions.\n",
    "Therefore the objective function is defined as below:"
   ]
  },
  {
   "cell_type": "code",
   "execution_count": 17,
   "id": "285910b2-93de-4197-b9f4-1459edd3f177",
   "metadata": {
    "tags": []
   },
   "outputs": [],
   "source": [
    "#Now we will intialize a LP problem object from pulp with the objective to minimize to fit our objective described below.\n",
    "prob = LpProblem('Financial_Portfolio', LpMinimize)\n",
    "\n",
    "#The objective function in this problem is the request of our client to minimize the weighted risk.\n",
    "#For this problem to be linear, however, we will need to assume that we use all the 500k budget.\n",
    "#If not, we need to replace the denominator of 500000 with summation of our variables, which will result in nonlinearity.\n",
    "prob += lpSum([invest_variables[fund]*Risk_Measure[fund] for fund in Funds])/500000"
   ]
  },
  {
   "cell_type": "markdown",
   "id": "c9c09296-4061-4a29-ad49-719bc34d402d",
   "metadata": {
    "tags": []
   },
   "source": [
    "## Defining Constraints\n",
    "Now we set Constraints as required in the assignments, we need to address:\n",
    "- the summation of all the funds is equal to 500000\n",
    "- the least amount of 50000 in multinational and balanced funds\n",
    "- the combined least income equity and balanced fund of 200000\n",
    "- the minimum average return constraint\n",
    "- the maximum of 200000 for each individual fund "
   ]
  },
  {
   "cell_type": "code",
   "execution_count": 18,
   "id": "1258ddc6-3822-4e49-87fe-337d7580a8db",
   "metadata": {
    "tags": []
   },
   "outputs": [],
   "source": [
    "#With our objective function in place we now define the constraints accordingly\n",
    "#First we have to make sure our total investment is equal to the 500K budget\n",
    "prob += lpSum([invest_variables[fund] for fund in Funds]) == 500000, 'Budget_Limit'\n",
    "#The next two constraints will limit the minimum of 50K investment in each of Multinational Fund and Balanced Fund as advised by the company\n",
    "prob += invest_variables['Multinational_Fund'] >= 50000, 'Least_Multinational_Fund'\n",
    "prob += invest_variables['Balanced_Fund'] >= 50000, 'Least_Balanced_Fund'\n",
    "#We also need to satisfy the condition of the least combined investment in Income Equity Fund and Balanced Fund of 200k\n",
    "prob += lpSum([invest_variables['Income_Equity_Fund'], invest_variables['Balanced_Fund']]) >= 200000, 'Least_Combined_Income_Equity+Balanced_Funds'\n",
    "#Lastly we apply the constraint put by the customer to keep the average return rate of 5%`\n",
    "prob += lpSum([invest_variables[fund]*Annual_Return[fund] for fund in Funds])/500000 >= 5, 'Average_Return_Constraint'\n",
    "#Maximum Investment in individual funds\n",
    "for fund in Funds:\n",
    "    prob += invest_variables[fund] <= 200000, f'Maximum {fund} investment'"
   ]
  },
  {
   "cell_type": "code",
   "execution_count": 19,
   "id": "d9ec57bb-2c42-49f1-9f21-77d6af0222c5",
   "metadata": {},
   "outputs": [
    {
     "data": {
      "text/plain": [
       "Financial_Portfolio:\n",
       "MINIMIZE\n",
       "1.522e-05*Invest_Balanced_Fund + 1.86e-05*Invest_Income_Equity_Fund + 2.114e-05*Invest_Low_Priced_Stock_Fund + 2.804e-05*Invest_Mid_Cap_Stock_Fund + 4.78e-06*Invest_Mortgage_Fund + 2.644e-05*Invest_Multinational_Fund + 0.0\n",
       "SUBJECT TO\n",
       "Budget_Limit: Invest_Balanced_Fund + Invest_Income_Equity_Fund\n",
       " + Invest_Low_Priced_Stock_Fund + Invest_Mid_Cap_Stock_Fund\n",
       " + Invest_Mortgage_Fund + Invest_Multinational_Fund = 500000\n",
       "\n",
       "Least_Multinational_Fund: Invest_Multinational_Fund >= 50000\n",
       "\n",
       "Least_Balanced_Fund: Invest_Balanced_Fund >= 50000\n",
       "\n",
       "Least_Combined_Income_Equity_Balanced_Funds: Invest_Balanced_Fund\n",
       " + Invest_Income_Equity_Fund >= 200000\n",
       "\n",
       "Average_Return_Constraint: 8.8e-06 Invest_Balanced_Fund\n",
       " + 1.558e-05 Invest_Income_Equity_Fund\n",
       " + 1.626e-05 Invest_Low_Priced_Stock_Fund\n",
       " + 1.512e-05 Invest_Mid_Cap_Stock_Fund + 7.24e-06 Invest_Mortgage_Fund\n",
       " + 1.804e-05 Invest_Multinational_Fund >= 5\n",
       "\n",
       "Maximum_Low_Priced_Stock_Fund_investment: Invest_Low_Priced_Stock_Fund\n",
       " <= 200000\n",
       "\n",
       "Maximum_Multinational_Fund_investment: Invest_Multinational_Fund <= 200000\n",
       "\n",
       "Maximum_Mid_Cap_Stock_Fund_investment: Invest_Mid_Cap_Stock_Fund <= 200000\n",
       "\n",
       "Maximum_Mortgage_Fund_investment: Invest_Mortgage_Fund <= 200000\n",
       "\n",
       "Maximum_Income_Equity_Fund_investment: Invest_Income_Equity_Fund <= 200000\n",
       "\n",
       "Maximum_Balanced_Fund_investment: Invest_Balanced_Fund <= 200000\n",
       "\n",
       "VARIABLES\n",
       "Invest_Balanced_Fund Continuous\n",
       "Invest_Income_Equity_Fund Continuous\n",
       "Invest_Low_Priced_Stock_Fund Continuous\n",
       "Invest_Mid_Cap_Stock_Fund Continuous\n",
       "Invest_Mortgage_Fund Continuous\n",
       "Invest_Multinational_Fund Continuous"
      ]
     },
     "execution_count": 19,
     "metadata": {},
     "output_type": "execute_result"
    }
   ],
   "source": [
    "#Here we get an overall report on all sides of the problem\n",
    "prob"
   ]
  },
  {
   "cell_type": "code",
   "execution_count": 20,
   "id": "ef7f2d4c-38fb-451a-b75f-4e1da7c41429",
   "metadata": {
    "tags": []
   },
   "outputs": [
    {
     "data": {
      "text/plain": [
       "1"
      ]
     },
     "execution_count": 20,
     "metadata": {},
     "output_type": "execute_result"
    }
   ],
   "source": [
    "prob.solve(PULP_CBC_CMD(msg=0))"
   ]
  },
  {
   "cell_type": "code",
   "execution_count": 21,
   "id": "3b9ea861-bdaa-4f14-bc3c-207513f50e48",
   "metadata": {
    "tags": []
   },
   "outputs": [
    {
     "name": "stdout",
     "output_type": "stream",
     "text": [
      "Invest_Balanced_Fund = 183628.32\n",
      "Invest_Income_Equity_Fund = 66371.681\n",
      "Invest_Low_Priced_Stock_Fund = 0.0\n",
      "Invest_Mid_Cap_Stock_Fund = 0.0\n",
      "Invest_Mortgage_Fund = 200000.0\n",
      "Invest_Multinational_Fund = 50000.0\n",
      "Weighted Risk of the portfolio = 6.307336297\n"
     ]
    }
   ],
   "source": [
    "#The optimal portfolio is described as below\n",
    "#The risk measure is also mentioned in last.\n",
    "for var in prob.variables():\n",
    "    print(f'{var.name} = {var.varValue}')\n",
    "print(f'Weighted Risk of the portfolio = {prob.objective.value()}')"
   ]
  },
  {
   "cell_type": "code",
   "execution_count": 22,
   "id": "1b80048d-9a7c-4b8b-9adb-3e7e4d6e3304",
   "metadata": {
    "tags": []
   },
   "outputs": [
    {
     "name": "stdout",
     "output_type": "stream",
     "text": [
      "\n",
      "Sensitivity Analysis\n",
      "                                Constraint_Name       Slack  Shadow_Price\n",
      "0                                  Budget_Limit      -0.000      0.000011\n",
      "1                      Least_Multinational_Fund      -0.000      0.000007\n",
      "2                           Least_Balanced_Fund -133628.320      0.000000\n",
      "3   Least_Combined_Income_Equity_Balanced_Funds  -50000.000      0.000000\n",
      "4                     Average_Return_Constraint      -0.000      0.498525\n",
      "5      Maximum_Low_Priced_Stock_Fund_investment  200000.000      0.000000\n",
      "6         Maximum_Multinational_Fund_investment  150000.000      0.000000\n",
      "7         Maximum_Mid_Cap_Stock_Fund_investment  200000.000      0.000000\n",
      "8              Maximum_Mortgage_Fund_investment      -0.000     -0.000010\n",
      "9         Maximum_Income_Equity_Fund_investment  133628.319      0.000000\n",
      "10             Maximum_Balanced_Fund_investment   16371.680      0.000000\n"
     ]
    }
   ],
   "source": [
    "import pandas as pd\n",
    "#Report Sensitivity Analysis\n",
    "print(\"\\nSensitivity Analysis\")\n",
    "Cons_Sensitivity_Report=[{'Constraint_Name':name,'Slack':c.slack,\"Shadow_Price\":c.pi}\n",
    "                         for name, c in prob.constraints.items()]\n",
    "print(pd.DataFrame(Cons_Sensitivity_Report))"
   ]
  },
  {
   "cell_type": "markdown",
   "id": "640b5a61-c6d4-4f24-aa82-f09bd5b3ccfe",
   "metadata": {},
   "source": [
    "## Answers to question B ,C and, D\n",
    "#### B.\n",
    "**Mortgage Funds.** Given that this fund has the lowest risk rate, making it the only fund utilized to its full 200k maximum limit, and also considering its shadow price is the best choice for increasing the 200k limit while keeping the risk measure as low as possible.\n",
    "#### C.\n",
    "**Yes, It will increase the risk.** considering the apparent positive correlation between risk measure and annual return, increasing the return will inevitably elevate the overal risk.\n",
    "#### D.\n",
    "**False.** Since this fund has the highest risk measure, by decreasing it's minimum required investment, the allocated fund will be replaced with lower risk funds, in turn lessening the overall weighted risk factor."
   ]
  }
 ],
 "metadata": {
  "kernelspec": {
   "display_name": "Python 3 (ipykernel)",
   "language": "python",
   "name": "python3"
  },
  "language_info": {
   "codemirror_mode": {
    "name": "ipython",
    "version": 3
   },
   "file_extension": ".py",
   "mimetype": "text/x-python",
   "name": "python",
   "nbconvert_exporter": "python",
   "pygments_lexer": "ipython3",
   "version": "3.8.18"
  }
 },
 "nbformat": 4,
 "nbformat_minor": 5
}
